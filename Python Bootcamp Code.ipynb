{
 "cells": [
  {
   "cell_type": "code",
   "execution_count": 11,
   "metadata": {},
   "outputs": [
    {
     "name": "stdout",
     "output_type": "stream",
     "text": [
      "Enter the number of integers you want to enter : 3\n",
      "2\n",
      "5\n",
      "9\n",
      "Below is a list of two numbers which have an even product\n",
      "[(2, 5), (2, 9)]\n",
      "Below is a list of two numbers which have an odd sum\n",
      "[(2, 5), (2, 9)]\n"
     ]
    }
   ],
   "source": [
    "integerList = []\n",
    "evenProductList = []\n",
    "oddSumList = []\n",
    "n = int(input(\"Enter the number of integers you want to enter : \")) \n",
    "  \n",
    "for i in range(n): \n",
    "    integerList.append(int(input()))\n",
    "\n",
    "for i in range(len(integerList)):\n",
    "    for j in range(i+1,len(integerList)):\n",
    "        prodVal = integerList[i] * integerList[j]\n",
    "        sumVal = integerList[i] + integerList[j]\n",
    "        tupleVal = (integerList[i], integerList[j])\n",
    "        if prodVal % 2 == 0:\n",
    "            evenProductList.append(tupleVal)\n",
    "        if sumVal % 2 != 0:\n",
    "            oddSumList.append(tupleVal)\n",
    "\n",
    "print(\"Below is a list of two numbers which have an even product\")            \n",
    "print(evenProductList)\n",
    "print(\"Below is a list of two numbers which have an odd sum\")\n",
    "print(oddSumList)"
   ]
  }
 ],
 "metadata": {
  "kernelspec": {
   "display_name": "Python 3",
   "language": "python",
   "name": "python3"
  },
  "language_info": {
   "codemirror_mode": {
    "name": "ipython",
    "version": 3
   },
   "file_extension": ".py",
   "mimetype": "text/x-python",
   "name": "python",
   "nbconvert_exporter": "python",
   "pygments_lexer": "ipython3",
   "version": "3.7.1"
  }
 },
 "nbformat": 4,
 "nbformat_minor": 2
}
